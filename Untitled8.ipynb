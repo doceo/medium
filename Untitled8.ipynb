{
  "nbformat": 4,
  "nbformat_minor": 0,
  "metadata": {
    "colab": {
      "name": "Untitled8.ipynb",
      "provenance": [],
      "collapsed_sections": []
    },
    "kernelspec": {
      "name": "python3",
      "display_name": "Python 3"
    }
  },
  "cells": [
    {
      "cell_type": "code",
      "metadata": {
        "id": "DfVvkPNyeJHs",
        "colab_type": "code",
        "colab": {
          "base_uri": "https://localhost:8080/",
          "height": 357
        },
        "outputId": "18e5d1a7-722f-45b1-af8b-5af3a203749f"
      },
      "source": [
        "# Importing the libraries\n",
        "import numpy as np\n",
        "import pandas as pd\n",
        "\n",
        "# Importing the dataset\n",
        "dataset = pd.read_csv('dataset.csv')\n",
        "display(dataset.head())\n",
        "\n",
        "X = dataset[['Age', 'EstimatedSalary']].values\n",
        "y = dataset['Purchased'].values\n",
        "print('-'*80)\n",
        "print(f'Shape of X is {X.shape}\\nShape of y is {y.shape}')\n",
        "\n",
        "# Splitting the dataset into the Training set and Test set\n",
        "from sklearn.model_selection import train_test_split\n",
        "X_train, X_test, y_train, y_test = train_test_split(X, y, test_size = 0.2, random_state = 0)\n",
        "print('-'*80)\n",
        "print(f\"Lenght of X_train: {len(X_train)}\\nLenght of X_test: {len(X_test)}\")\n",
        "print(f\"Lenght of y_train: {len(y_train)}\\nLenght of y_test: {len(y_test)}\")"
      ],
      "execution_count": 1,
      "outputs": [
        {
          "output_type": "display_data",
          "data": {
            "text/html": [
              "<div>\n",
              "<style scoped>\n",
              "    .dataframe tbody tr th:only-of-type {\n",
              "        vertical-align: middle;\n",
              "    }\n",
              "\n",
              "    .dataframe tbody tr th {\n",
              "        vertical-align: top;\n",
              "    }\n",
              "\n",
              "    .dataframe thead th {\n",
              "        text-align: right;\n",
              "    }\n",
              "</style>\n",
              "<table border=\"1\" class=\"dataframe\">\n",
              "  <thead>\n",
              "    <tr style=\"text-align: right;\">\n",
              "      <th></th>\n",
              "      <th>Age</th>\n",
              "      <th>EstimatedSalary</th>\n",
              "      <th>Purchased</th>\n",
              "    </tr>\n",
              "  </thead>\n",
              "  <tbody>\n",
              "    <tr>\n",
              "      <th>0</th>\n",
              "      <td>19</td>\n",
              "      <td>19000</td>\n",
              "      <td>0</td>\n",
              "    </tr>\n",
              "    <tr>\n",
              "      <th>1</th>\n",
              "      <td>35</td>\n",
              "      <td>20000</td>\n",
              "      <td>0</td>\n",
              "    </tr>\n",
              "    <tr>\n",
              "      <th>2</th>\n",
              "      <td>26</td>\n",
              "      <td>43000</td>\n",
              "      <td>0</td>\n",
              "    </tr>\n",
              "    <tr>\n",
              "      <th>3</th>\n",
              "      <td>27</td>\n",
              "      <td>57000</td>\n",
              "      <td>0</td>\n",
              "    </tr>\n",
              "    <tr>\n",
              "      <th>4</th>\n",
              "      <td>19</td>\n",
              "      <td>76000</td>\n",
              "      <td>0</td>\n",
              "    </tr>\n",
              "  </tbody>\n",
              "</table>\n",
              "</div>"
            ],
            "text/plain": [
              "   Age  EstimatedSalary  Purchased\n",
              "0   19            19000          0\n",
              "1   35            20000          0\n",
              "2   26            43000          0\n",
              "3   27            57000          0\n",
              "4   19            76000          0"
            ]
          },
          "metadata": {
            "tags": []
          }
        },
        {
          "output_type": "stream",
          "text": [
            "--------------------------------------------------------------------------------\n",
            "Shape of X is (400, 2)\n",
            "Shape of y is (400,)\n",
            "--------------------------------------------------------------------------------\n",
            "Lenght of X_train: 320\n",
            "Lenght of X_test: 80\n",
            "Lenght of y_train: 320\n",
            "Lenght of y_test: 80\n"
          ],
          "name": "stdout"
        }
      ]
    },
    {
      "cell_type": "code",
      "metadata": {
        "id": "K9BdFPHovhAA",
        "colab_type": "code",
        "colab": {
          "base_uri": "https://localhost:8080/",
          "height": 413
        },
        "outputId": "cad26518-3ce0-4689-b78c-81c5f7e318aa"
      },
      "source": [
        "# Feature Scaling\n",
        "from sklearn.preprocessing import StandardScaler\n",
        "sc = StandardScaler()\n",
        "X_train = sc.fit_transform(X_train)\n",
        "X_test = sc.transform(X_test)\n",
        "for i in range(10):\n",
        "  print(X_train[i])\n",
        "print('-'*80)\n",
        "for i in range(10):\n",
        "  print(X_test[i])"
      ],
      "execution_count": 2,
      "outputs": [
        {
          "output_type": "stream",
          "text": [
            "[1.92295008 2.14601566]\n",
            "[2.02016082 0.3787193 ]\n",
            "[-1.3822153 -0.4324987]\n",
            "[-1.18779381 -1.01194013]\n",
            "[ 1.92295008 -0.92502392]\n",
            "[0.36757813 0.29180308]\n",
            "[0.17315664 0.14694273]\n",
            "[2.02016082 1.74040666]\n",
            "[ 0.75642112 -0.83810771]\n",
            "[ 0.27036739 -0.28763835]\n",
            "--------------------------------------------------------------------------------\n",
            "[-0.79895082  0.49460758]\n",
            "[-0.02126485 -0.57735906]\n",
            "[-0.31289709  0.14694273]\n",
            "[-0.79895082  0.26283101]\n",
            "[-0.31289709 -0.57735906]\n",
            "[-1.09058306 -1.44652121]\n",
            "[-0.70174008 -1.59138156]\n",
            "[-0.21568634  2.14601566]\n",
            "[-1.96547978 -0.05586178]\n",
            "[ 0.85363187 -0.78016356]\n"
          ],
          "name": "stdout"
        }
      ]
    },
    {
      "cell_type": "markdown",
      "metadata": {
        "id": "afKtV8KMhm7m",
        "colab_type": "text"
      },
      "source": [
        "## **Alogrithms**"
      ]
    },
    {
      "cell_type": "markdown",
      "metadata": {
        "id": "SI_ofp9Hh4dM",
        "colab_type": "text"
      },
      "source": [
        "1. Support Vector Classifer (SVC)\n"
      ]
    },
    {
      "cell_type": "code",
      "metadata": {
        "id": "itWjw-67f8-4",
        "colab_type": "code",
        "colab": {
          "base_uri": "https://localhost:8080/",
          "height": 149
        },
        "outputId": "0ecaecb8-b8b9-466f-f52d-ec0dbba673b8"
      },
      "source": [
        "# Fitting SVM to the Training set\n",
        "from sklearn.svm import SVC\n",
        "classifier = SVC()\n",
        "print(classifier)\n",
        "classifier.fit(X_train, y_train)\n",
        "\n",
        "# Predicting the Test set results\n",
        "y_pred = classifier.predict(X_test)\n",
        "\n",
        "# Accuracy on the Test set results                              \n",
        "from sklearn.metrics import accuracy_score\n",
        "print('\\n'+'-'*20+'Accuracy Score on the Test set'+'-'*20)                             \n",
        "print(\"{:.0%}\".format(accuracy_score(y_test,y_pred)))"
      ],
      "execution_count": 3,
      "outputs": [
        {
          "output_type": "stream",
          "text": [
            "SVC(C=1.0, break_ties=False, cache_size=200, class_weight=None, coef0=0.0,\n",
            "    decision_function_shape='ovr', degree=3, gamma='scale', kernel='rbf',\n",
            "    max_iter=-1, probability=False, random_state=None, shrinking=True,\n",
            "    tol=0.001, verbose=False)\n",
            "\n",
            "--------------------Accuracy Score on the Test set--------------------\n",
            "95%\n"
          ],
          "name": "stdout"
        }
      ]
    },
    {
      "cell_type": "markdown",
      "metadata": {
        "id": "zEaY2gleicn6",
        "colab_type": "text"
      },
      "source": [
        "2. Logistics Regression"
      ]
    },
    {
      "cell_type": "code",
      "metadata": {
        "id": "mxP5xbFUjAOw",
        "colab_type": "code",
        "colab": {
          "base_uri": "https://localhost:8080/",
          "height": 168
        },
        "outputId": "10c33dbd-690c-4d8f-85af-8e5519b9a240"
      },
      "source": [
        "# Fitting SVM to the Training set\n",
        "from sklearn.linear_model import LogisticRegression\n",
        "classifier = LogisticRegression()\n",
        "print(classifier)\n",
        "classifier.fit(X_train, y_train)\n",
        "\n",
        "# Predicting the Test set results\n",
        "y_pred = classifier.predict(X_test)\n",
        "\n",
        "# Accuracy on the Test set results                              \n",
        "from sklearn.metrics import accuracy_score\n",
        "print('\\n'+'-'*20+'Accuracy Score on the Test set'+'-'*20)                             \n",
        "print(\"{:.0%}\".format(accuracy_score(y_test,y_pred)))"
      ],
      "execution_count": 4,
      "outputs": [
        {
          "output_type": "stream",
          "text": [
            "LogisticRegression(C=1.0, class_weight=None, dual=False, fit_intercept=True,\n",
            "                   intercept_scaling=1, l1_ratio=None, max_iter=100,\n",
            "                   multi_class='auto', n_jobs=None, penalty='l2',\n",
            "                   random_state=None, solver='lbfgs', tol=0.0001, verbose=0,\n",
            "                   warm_start=False)\n",
            "\n",
            "--------------------Accuracy Score on the Test set--------------------\n",
            "92%\n"
          ],
          "name": "stdout"
        }
      ]
    },
    {
      "cell_type": "markdown",
      "metadata": {
        "id": "sM8Vi7f73ciG",
        "colab_type": "text"
      },
      "source": [
        "3. Naive Bayes"
      ]
    },
    {
      "cell_type": "code",
      "metadata": {
        "id": "QSwikXFX3WxK",
        "colab_type": "code",
        "colab": {
          "base_uri": "https://localhost:8080/",
          "height": 92
        },
        "outputId": "8f7762dd-d109-4cbd-b48d-481651e2d32b"
      },
      "source": [
        "# Fitting Naive Bayes to the Training set\n",
        "from sklearn.naive_bayes import GaussianNB\n",
        "classifier = GaussianNB()\n",
        "print(classifier)\n",
        "classifier.fit(X_train, y_train)\n",
        "\n",
        "# Predicting the Test set results\n",
        "y_pred = classifier.predict(X_test)\n",
        "\n",
        "# Accuracy on the Test set results                              \n",
        "from sklearn.metrics import accuracy_score\n",
        "print('\\n'+'-'*20+'Accuracy Score on the Test set'+'-'*20)                             \n",
        "print(\"{:.0%}\".format(accuracy_score(y_test,y_pred)))"
      ],
      "execution_count": 5,
      "outputs": [
        {
          "output_type": "stream",
          "text": [
            "GaussianNB(priors=None, var_smoothing=1e-09)\n",
            "\n",
            "--------------------Accuracy Score on the Test set--------------------\n",
            "91%\n"
          ],
          "name": "stdout"
        }
      ]
    },
    {
      "cell_type": "markdown",
      "metadata": {
        "id": "KkULMkLG4Sue",
        "colab_type": "text"
      },
      "source": [
        "4. Decision Tree Classifier"
      ]
    },
    {
      "cell_type": "code",
      "metadata": {
        "id": "pM3O5yYJ4Gvu",
        "colab_type": "code",
        "colab": {
          "base_uri": "https://localhost:8080/",
          "height": 187
        },
        "outputId": "bd0b90c6-f460-40fe-c012-ed0528e94f9f"
      },
      "source": [
        "# Fitting Naive Bayes to the Training set\n",
        "from sklearn.tree import DecisionTreeClassifier\n",
        "classifier = DecisionTreeClassifier()\n",
        "print(classifier)\n",
        "classifier.fit(X_train, y_train)\n",
        "\n",
        "# Predicting the Test set results\n",
        "y_pred = classifier.predict(X_test)\n",
        "\n",
        "# Accuracy on the Test set results                              \n",
        "from sklearn.metrics import accuracy_score\n",
        "print('\\n'+'-'*20+'Accuracy Score on the Test set'+'-'*20)                             \n",
        "print(\"{:.0%}\".format(accuracy_score(y_test,y_pred)))"
      ],
      "execution_count": 6,
      "outputs": [
        {
          "output_type": "stream",
          "text": [
            "DecisionTreeClassifier(ccp_alpha=0.0, class_weight=None, criterion='gini',\n",
            "                       max_depth=None, max_features=None, max_leaf_nodes=None,\n",
            "                       min_impurity_decrease=0.0, min_impurity_split=None,\n",
            "                       min_samples_leaf=1, min_samples_split=2,\n",
            "                       min_weight_fraction_leaf=0.0, presort='deprecated',\n",
            "                       random_state=None, splitter='best')\n",
            "\n",
            "--------------------Accuracy Score on the Test set--------------------\n",
            "90%\n"
          ],
          "name": "stdout"
        }
      ]
    },
    {
      "cell_type": "markdown",
      "metadata": {
        "id": "isejXr2Q4rh8",
        "colab_type": "text"
      },
      "source": [
        "5. Random Forest Classifier"
      ]
    },
    {
      "cell_type": "code",
      "metadata": {
        "id": "CvSkUTGF4gwK",
        "colab_type": "code",
        "colab": {
          "base_uri": "https://localhost:8080/",
          "height": 225
        },
        "outputId": "9e137bab-3c31-4d23-b2f4-f05109382bba"
      },
      "source": [
        "# Fitting Naive Bayes to the Training set\n",
        "from sklearn.ensemble import RandomForestClassifier\n",
        "classifier = RandomForestClassifier()\n",
        "print(classifier)\n",
        "classifier.fit(X_train, y_train)\n",
        "\n",
        "# Predicting the Test set results\n",
        "y_pred = classifier.predict(X_test)\n",
        "\n",
        "# Accuracy on the Test set results                              \n",
        "from sklearn.metrics import accuracy_score\n",
        "print('\\n'+'-'*20+'Accuracy Score on the Test set'+'-'*20)                             \n",
        "print(\"{:.0%}\".format(accuracy_score(y_test,y_pred)))"
      ],
      "execution_count": 7,
      "outputs": [
        {
          "output_type": "stream",
          "text": [
            "RandomForestClassifier(bootstrap=True, ccp_alpha=0.0, class_weight=None,\n",
            "                       criterion='gini', max_depth=None, max_features='auto',\n",
            "                       max_leaf_nodes=None, max_samples=None,\n",
            "                       min_impurity_decrease=0.0, min_impurity_split=None,\n",
            "                       min_samples_leaf=1, min_samples_split=2,\n",
            "                       min_weight_fraction_leaf=0.0, n_estimators=100,\n",
            "                       n_jobs=None, oob_score=False, random_state=None,\n",
            "                       verbose=0, warm_start=False)\n",
            "\n",
            "--------------------Accuracy Score on the Test set--------------------\n",
            "92%\n"
          ],
          "name": "stdout"
        }
      ]
    }
  ]
}